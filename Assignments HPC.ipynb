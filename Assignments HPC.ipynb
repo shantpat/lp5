{
 "cells": [
  {
   "cell_type": "markdown",
   "id": "0fc215d7",
   "metadata": {},
   "source": [
    "### Assignment 1\n",
    "\n",
    "Design and implement Parallel Breadth First Search and Depth First Search based on existing\n",
    "algorithms using OpenMP. Use a Tree or an undirected graph for BFS and DFS ."
   ]
  },
  {
   "cell_type": "code",
   "execution_count": 10,
   "id": "93e0978b",
   "metadata": {},
   "outputs": [
    {
     "name": "stdout",
     "output_type": "stream",
     "text": [
      "A\n",
      "B\n",
      "C\n",
      "D\n",
      "E\n",
      "F\n",
      "A\n",
      "C\n",
      "F\n",
      "E\n",
      "B\n",
      "D\n"
     ]
    }
   ],
   "source": [
    "import concurrent.futures\n",
    "\n",
    "# BFS\n",
    "def bfs(graph, start):\n",
    "    visited = set()\n",
    "    queue = [start]\n",
    "    while queue:\n",
    "        node = queue.pop(0)\n",
    "        if node not in visited:\n",
    "            visited.add(node)\n",
    "            print(node)  # Print or process the visited node\n",
    "            queue += graph[node] - visited\n",
    "\n",
    "# DFS\n",
    "def dfs(graph, start):\n",
    "    visited = set()\n",
    "    stack = [start]\n",
    "    while stack:\n",
    "        node = stack.pop()\n",
    "        if node not in visited:\n",
    "            visited.add(node)\n",
    "            print(node)  # Print or process the visited node\n",
    "            stack += graph[node] - visited\n",
    "\n",
    "if __name__ == '__main__':\n",
    "    graph = {\n",
    "        'A': {'B', 'C'},\n",
    "        'B': {'D', 'E'},\n",
    "        'C': {'A', 'F'},\n",
    "        'D': {'B'},\n",
    "        'E': {'B', 'F'},\n",
    "        'F': {'C', 'E'}\n",
    "    }\n",
    "\n",
    "    start_node = 'A'\n",
    "\n",
    "    # Parallel BFS\n",
    "    with concurrent.futures.ThreadPoolExecutor() as executor:\n",
    "        executor.submit(bfs, graph, start_node)\n",
    "\n",
    "    # Parallel DFS\n",
    "    with concurrent.futures.ThreadPoolExecutor() as executor:\n",
    "        executor.submit(dfs, graph, start_node)\n"
   ]
  },
  {
   "cell_type": "markdown",
   "id": "6f075971",
   "metadata": {},
   "source": [
    "### Assignment 2\n",
    "\n",
    "Write a program to implement Parallel Bubble Sort and Merge sort using OpenMP. Use\n",
    "existing algorithms and measure the performance of sequential and parallel algorithms.\n"
   ]
  },
  {
   "cell_type": "code",
   "execution_count": 3,
   "id": "8161310f",
   "metadata": {},
   "outputs": [
    {
     "name": "stdout",
     "output_type": "stream",
     "text": [
      "Bubble Sort: [-6, 1, 2, 3, 4, 5, 7, 8, 1110]\n",
      "Merge Sort: [-6, 1, 2, 3, 4, 5, 7, 8, 1110]\n"
     ]
    }
   ],
   "source": [
    "import concurrent.futures\n",
    "\n",
    "def bubble_sort(arr):\n",
    "    n = len(arr)\n",
    "    for i in range(n):\n",
    "        for j in range(0, n - i - 1):\n",
    "            if arr[j] > arr[j + 1]:\n",
    "                arr[j], arr[j + 1] = arr[j + 1], arr[j]\n",
    "    return arr\n",
    "\n",
    "def merge_sort(arr):\n",
    "    if len(arr) <= 1:\n",
    "        return arr\n",
    "    mid = len(arr) // 2\n",
    "    left = merge_sort(arr[:mid])\n",
    "    right = merge_sort(arr[mid:])\n",
    "    return merge(left, right)\n",
    "\n",
    "def merge(left, right):\n",
    "    merged = []\n",
    "    i = j = 0\n",
    "    while i < len(left) and j < len(right):\n",
    "        if left[i] <= right[j]:\n",
    "            merged.append(left[i])\n",
    "            i += 1\n",
    "        else:\n",
    "            merged.append(right[j])\n",
    "            j += 1\n",
    "    merged.extend(left[i:])\n",
    "    merged.extend(right[j:])\n",
    "    return merged\n",
    "\n",
    "if __name__ == '__main__':\n",
    "    arr = [5, 2, 1110, 1, 7, -6, 3, 8, 4]\n",
    "\n",
    "    # Parallel Bubble Sort\n",
    "    with concurrent.futures.ThreadPoolExecutor() as executor:\n",
    "        sorted_arr_bubble = executor.submit(bubble_sort, arr).result()\n",
    "        print(\"Bubble Sort:\", sorted_arr_bubble)\n",
    "\n",
    "    # Parallel Merge Sort\n",
    "    with concurrent.futures.ThreadPoolExecutor() as executor:\n",
    "        sorted_arr_merge = executor.submit(merge_sort, arr).result()\n",
    "        print(\"Merge Sort:\", sorted_arr_merge)\n"
   ]
  },
  {
   "cell_type": "code",
   "execution_count": 22,
   "id": "4ccaceaa",
   "metadata": {},
   "outputs": [
    {
     "name": "stdout",
     "output_type": "stream",
     "text": [
      "Min: 1\n",
      "Max: 9\n",
      "Sum: 65\n",
      "Average: 5.0\n"
     ]
    }
   ],
   "source": [
    "import concurrent.futures\n",
    "\n",
    "data = [1, 7, 3, 9, 2, 5, 6, 8, 4, 5, 5, 5, 5]\n",
    "num_threads = len(data) # Number of threads to use\n",
    "\n",
    "chunk_size = len(data) // num_threads\n",
    "\n",
    "def min_operation(chunk):\n",
    "    return min(chunk)\n",
    "\n",
    "def max_operation(chunk):\n",
    "    return max(chunk)\n",
    "\n",
    "def sum_operation(chunk):\n",
    "    return sum(chunk)\n",
    "\n",
    "def average_operation(chunk):\n",
    "    return sum(chunk) / len(chunk)\n",
    "\n",
    "with concurrent.futures.ThreadPoolExecutor(max_workers=num_threads) as executor:\n",
    "    chunks = [data[i:i+chunk_size] for i in range(0, len(data), chunk_size)]\n",
    "    min_value = min(executor.map(min_operation, chunks))\n",
    "    max_value = max(executor.map(max_operation, chunks))\n",
    "    sum_value = sum(executor.map(sum_operation, chunks))\n",
    "    average_value = sum(executor.map(average_operation, chunks)) / num_threads\n",
    "\n",
    "print(\"Min:\", min_value)\n",
    "print(\"Max:\", max_value)\n",
    "print(\"Sum:\", sum_value)\n",
    "print(\"Average:\", average_value)\n"
   ]
  },
  {
   "cell_type": "code",
   "execution_count": 1,
   "id": "53dca714",
   "metadata": {},
   "outputs": [],
   "source": [
    "import concurrent.futures"
   ]
  },
  {
   "cell_type": "code",
   "execution_count": 12,
   "id": "467e6e5f",
   "metadata": {},
   "outputs": [
    {
     "name": "stdout",
     "output_type": "stream",
     "text": [
      "1\n",
      "2\n",
      "3\n",
      "4\n",
      "5\n",
      "6\n",
      "7\n"
     ]
    }
   ],
   "source": []
  },
  {
   "cell_type": "code",
   "execution_count": null,
   "id": "eca0167f",
   "metadata": {},
   "outputs": [],
   "source": []
  }
 ],
 "metadata": {
  "kernelspec": {
   "display_name": "Python 3",
   "language": "python",
   "name": "python3"
  },
  "language_info": {
   "codemirror_mode": {
    "name": "ipython",
    "version": 3
   },
   "file_extension": ".py",
   "mimetype": "text/x-python",
   "name": "python",
   "nbconvert_exporter": "python",
   "pygments_lexer": "ipython3",
   "version": "3.8.7"
  }
 },
 "nbformat": 4,
 "nbformat_minor": 5
}
